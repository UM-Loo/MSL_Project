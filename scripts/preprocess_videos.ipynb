{
 "cells": [
  {
   "cell_type": "code",
   "execution_count": 2,
   "metadata": {},
   "outputs": [
    {
     "name": "stdout",
     "output_type": "stream",
     "text": [
      "Created folder: ./data_collection\\Occ1_Group12\\waalaikumussalam\n",
      "Created folder: ./data_collection\\Occ1_Group12\\khabar_baik\n",
      "Created folder: ./data_collection\\Occ1_Group12\\saya\n",
      "Created folder: ./data_collection\\Occ1_Group12\\awak\n",
      "Created folder: ./data_collection\\Occ1_Group12\\nama\n",
      "Created folder: ./data_collection\\Occ1_Group12\\bahasa_isyarat\n",
      "Created folder: ./data_collection\\Occ1_Group12\\terima_kasih\n",
      "Created folder: ./data_collection\\Occ1_Group12\\selamat_pagi\n",
      "Created folder: ./data_collection\\Occ1_Group12\\adik_lelaki\n",
      "Created folder: ./data_collection\\Occ1_Group12\\adik_perempuan\n",
      "Created folder: ./data_collection\\Occ1_Group12\\anak\n",
      "Created folder: ./data_collection\\Occ1_Group12\\saudara\n",
      "Created folder: ./data_collection\\Occ1_Group12\\datuk\n",
      "Created folder: ./data_collection\\Occ1_Group12\\nenek\n",
      "Created folder: ./data_collection\\Occ1_Group12\\air\n",
      "Created folder: ./data_collection\\Occ1_Group12\\cuaca\n",
      "Created folder: ./data_collection\\Occ1_Group12\\duit\n"
     ]
    }
   ],
   "source": [
    "import os\n",
    "\n",
    "def create_folder_structure(base_path, glosses, group):\n",
    "    for gloss in glosses:\n",
    "        folder_path = os.path.join(base_path, f\"Occ1_Group{group}\", gloss)\n",
    "        os.makedirs(folder_path, exist_ok=True)\n",
    "        print(f\"Created folder: {folder_path}\")\n",
    "\n",
    "if __name__ == \"__main__\":\n",
    "    glosses = [\n",
    "        \"waalaikumussalam\", \"khabar_baik\", \"saya\", \"awak\", \"nama\", \n",
    "        \"bahasa_isyarat\", \"terima_kasih\", \"selamat_pagi\", \"adik_lelaki\", \n",
    "        \"adik_perempuan\", \"anak\", \"saudara\", \"datuk\", \"nenek\", \"air\", \n",
    "        \"cuaca\", \"duit\"\n",
    "    ]\n",
    "    group = 12\n",
    "    base_path = \"./data_collection\"\n",
    "\n",
    "    create_folder_structure(base_path, glosses, group)"
   ]
  },
  {
   "cell_type": "code",
   "execution_count": null,
   "metadata": {},
   "outputs": [],
   "source": []
  }
 ],
 "metadata": {
  "kernelspec": {
   "display_name": "Python 3",
   "language": "python",
   "name": "python3"
  },
  "language_info": {
   "codemirror_mode": {
    "name": "ipython",
    "version": 3
   },
   "file_extension": ".py",
   "mimetype": "text/x-python",
   "name": "python",
   "nbconvert_exporter": "python",
   "pygments_lexer": "ipython3",
   "version": "3.12.8"
  }
 },
 "nbformat": 4,
 "nbformat_minor": 2
}
